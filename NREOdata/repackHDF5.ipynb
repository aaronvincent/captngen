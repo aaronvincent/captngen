{
 "cells": [
  {
   "cell_type": "code",
   "execution_count": null,
   "metadata": {},
   "outputs": [],
   "source": [
    "import numpy as np\n",
    "import h5py as h"
   ]
  },
  {
   "cell_type": "code",
   "execution_count": null,
   "metadata": {},
   "outputs": [],
   "source": [
    "datafile = \"nreo_NR_both_diver_c4_only_Halo_WW.dat\"\n",
    "H5file = \"nreo_NR_both_diver_c4_only_Halo_WW.hdf5\"#\"../2022-01-01_REScan/nreo_NR_both_diver_c15_only_Halo_WW/samples/nreo.hdf5\""
   ]
  },
  {
   "cell_type": "code",
   "execution_count": null,
   "metadata": {},
   "outputs": [],
   "source": [
    "totalloglike = \"LogLike\"\n",
    "# loglikes = fm.filter((fm.filter(rawH5[\"nreo\"].keys(), \"*_Log*\")), \"[!Runtime]*_isvalid\")\n",
    "# loglikes = [s.replace(\"_isvalid\", \"\") for s in loglikes]#.append(\"#IC79_loglike @DarkBit::IC79_loglike\")\n",
    "# loglikes.append(\"#IC79_loglike @DarkBit::IC79_loglike\")\n",
    "# print(len(loglikes), loglikes)\n",
    "# priorlikes = fm.filter((fm.filter(rawH5[\"nreo\"].keys(), \"*lnL_*\")), \"[!Runtime]*[!id]\")\n",
    "# print(len(priorlikes), priorlikes)\n",
    "subloglike = ['#CDMSlite_LogLikelihood @DarkBit::CDMSlite_GetLogLikelihood', '#CRESST_II_LogLikelihood @DarkBit::CRESST_II_GetLogLikelihood', '#DarkSide_50_LogLikelihood @DarkBit::DarkSide_50_GetLogLikelihood', '#LUX_2016_LogLikelihood @DarkBit::LUX_2016_GetLogLikelihood', '#PICO_60_2017_LogLikelihood @DarkBit::PICO_60_2017_GetLogLikelihood', '#PandaX_2016_LogLikelihood @DarkBit::PandaX_2016_GetLogLikelihood', '#PandaX_2017_LogLikelihood @DarkBit::PandaX_2017_GetLogLikelihood', '#XENON1T_2018_LogLikelihood @DarkBit::XENON1T_2018_GetLogLikelihood', '#IC79_loglike @DarkBit::IC79_loglike', '#lnL_rho0 @DarkBit::lnL_rho0_lognormal', '#lnL_v0 @DarkBit::lnL_v0_gaussian', '#lnL_vesc @DarkBit::lnL_vesc_gaussian']"
   ]
  },
  {
   "cell_type": "code",
   "execution_count": null,
   "metadata": {},
   "outputs": [],
   "source": [
    "# for i in range(len(rawH5[\"nreo/\"+totalloglike])):\n",
    "#     total = rawH5[\"nreo/\"+totalloglike][i]\n",
    "#     summation = 0\n",
    "#     print(\"Total: \"+str(total), end=\"\\t\")\n",
    "#     for sublike in subloglike:\n",
    "#         summation = summation + rawH5[\"nreo/\"+sublike][i]\n",
    "#     print(\"Summation: \"+str(summation), end=\"\\t\")\n",
    "#     print(\"Diff: \"+str(total-summation))\n",
    "# pointID = np.loadtxt(datafile, dtype=int, usecols=0, unpack=True)\n",
    "# logL, captures, newANTARES, newIceCube = np.loadtxt(datafile, dtype=float, usecols=(1,7,9,10), unpack=True)\n",
    "# print(pointID.dtype, pointID)\n",
    "# print(logL.dtype, logL)\n",
    "# print(captures.dtype, captures)\n",
    "# print(newANTARES.dtype, newANTARES)\n",
    "# print(newIceCube.dtype, newIceCube)"
   ]
  },
  {
   "cell_type": "code",
   "execution_count": null,
   "metadata": {},
   "outputs": [],
   "source": [
    "# pointID = np.loadtxt(datafile, dtype=int, usecols=0, unpack=True)\n",
    "pointID = np.loadtxt(datafile, dtype=float, usecols=0, unpack=True)\n",
    "logL, captures, newANTARES, newIceCube = np.loadtxt(datafile, dtype=float, usecols=(1,7,9,10), unpack=True)\n",
    "appendingH5 = h.File(H5file, \"a\")\n",
    "points = appendingH5[\"nreo/pointID\"]\n",
    "length = len(points)\n",
    "\n",
    "completeANTARES = np.zeros(length, dtype=float)\n",
    "completeIceCube = np.zeros(length, dtype=float)\n",
    "modifiedLike = np.zeros(length, dtype=float)\n",
    "ANTARES_isvalid = np.zeros(length, dtype=int)\n",
    "IceCube_isvalid = np.zeros(length, dtype=int)\n",
    "modifiedLike_isvalid = np.zeros(length, dtype=int)\n",
    "recalcCaps = np.zeros(length, dtype=float)\n",
    "\n",
    "for i in range(len(points)):\n",
    "    point = i+1\n",
    "    if point in pointID:\n",
    "        indexPoint = np.where(pointID == point)[0][0]\n",
    "        completeANTARES[i] = newANTARES[indexPoint]\n",
    "        ANTARES_isvalid[i] = 1\n",
    "        completeIceCube[i] = newIceCube[indexPoint]\n",
    "        IceCube_isvalid[i] = 1\n",
    "        modifiedLike[i] = logL[indexPoint] + newANTARES[indexPoint] + newIceCube[indexPoint]\n",
    "        modifiedLike_isvalid[i] = 1\n",
    "        recalcCaps[i] = captures[indexPoint]"
   ]
  },
  {
   "cell_type": "code",
   "execution_count": null,
   "metadata": {},
   "outputs": [],
   "source": [
    "appendingH5.create_dataset(name=\"nreo/ANTARES_new_LogLike\", data=completeANTARES)\n",
    "appendingH5.create_dataset(name=\"nreo/ANTARES_new_LogLike_isvalid\", data=ANTARES_isvalid)\n",
    "appendingH5.create_dataset(name=\"nreo/IceCube_new_LogLike\", data=completeIceCube)\n",
    "appendingH5.create_dataset(name=\"nreo/IceCube_new_LogLike_isvalid\", data=IceCube_isvalid)\n",
    "appendingH5.create_dataset(name=\"nreo/Modified_LogLike\", data=modifiedLike)\n",
    "appendingH5.create_dataset(name=\"nreo/Modified_LogLike_isvalid\", data=modifiedLike_isvalid)\n",
    "appendingH5.create_dataset(name=\"nreo/Recalculated_Capturerate\", data=recalcCaps)\n",
    "appendingH5.close()"
   ]
  },
  {
   "cell_type": "code",
   "execution_count": null,
   "metadata": {},
   "outputs": [],
   "source": [
    "# appendingH5 = h.File(H5file, \"a\")"
   ]
  },
  {
   "cell_type": "code",
   "execution_count": null,
   "metadata": {},
   "outputs": [],
   "source": [
    "# del appendingH5[\"nreo/ANTARES_new_LogLike\"]\n",
    "# del appendingH5[\"nreo/ANTARES_new_LogLike_isvalid\"]\n",
    "# del appendingH5[\"nreo/IceCube_new_LogLike\"]\n",
    "# del appendingH5[\"nreo/IceCube_new_LogLike_isvalid\"]\n",
    "# del appendingH5[\"nreo/ModifiedLogLike\"]\n",
    "# del appendingH5[\"nreo/ModifiedLogLike_isvalid\"]\n",
    "# del appendingH5[\"nreo/Recalculated_Capturerate\"]"
   ]
  },
  {
   "cell_type": "code",
   "execution_count": null,
   "metadata": {},
   "outputs": [],
   "source": [
    "# appendingH5.close()"
   ]
  }
 ],
 "metadata": {
  "interpreter": {
   "hash": "916dbcbb3f70747c44a77c7bcd40155683ae19c65e1c03b4aa3499c5328201f1"
  },
  "kernelspec": {
   "display_name": "Python 3.8.10 64-bit",
   "language": "python",
   "name": "python3"
  },
  "language_info": {
   "codemirror_mode": {
    "name": "ipython",
    "version": 3
   },
   "file_extension": ".py",
   "mimetype": "text/x-python",
   "name": "python",
   "nbconvert_exporter": "python",
   "pygments_lexer": "ipython3",
   "version": "3.8.10"
  },
  "orig_nbformat": 4
 },
 "nbformat": 4,
 "nbformat_minor": 2
}
