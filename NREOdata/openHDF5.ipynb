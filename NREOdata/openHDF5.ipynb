{
 "cells": [
  {
   "cell_type": "code",
   "execution_count": null,
   "metadata": {},
   "outputs": [],
   "source": [
    "import h5py as h\n",
    "import numpy as np"
   ]
  },
  {
   "cell_type": "code",
   "execution_count": null,
   "metadata": {},
   "outputs": [],
   "source": [
    "rawH5 = h.File(\"nreo.hdf5\", \"r\")\n",
    "# rawH5[\"nreo\"].keys()"
   ]
  },
  {
   "cell_type": "code",
   "execution_count": null,
   "metadata": {},
   "outputs": [],
   "source": [
    "logL_label = \"nreo/LogLike\"\n",
    "dmMass_label = \"nreo/#NREO_DiracDM_parameters @NREO_DiracDM::primary_parameters::m\"\n",
    "c0_4_label = \"nreo/#NREO_DiracDM_parameters @NREO_DiracDM::primary_parameters::c0_4\"\n",
    "v0_label = \"nreo/#Halo_gNFW_rho0_parameters @Halo_gNFW_rho0::primary_parameters::v0\"\n",
    "vesc_label = \"nreo/#Halo_gNFW_rho0_parameters @Halo_gNFW_rho0::primary_parameters::vesc\"\n",
    "rho0_label = \"nreo/#Halo_gNFW_rho0_parameters @Halo_gNFW_rho0::primary_parameters::rho0\"\n",
    "\n",
    "logL = rawH5[logL_label]\n",
    "dmMass = rawH5[dmMass_label]\n",
    "c0_4 = rawH5[c0_4_label]\n",
    "v0 = rawH5[v0_label]\n",
    "vesc = rawH5[vesc_label]\n",
    "rho0 = rawH5[rho0_label]"
   ]
  },
  {
   "cell_type": "code",
   "execution_count": null,
   "metadata": {},
   "outputs": [],
   "source": [
    "logL_mask = np.array(rawH5[logL_label+\"_isvalid\"], dtype=int)\n",
    "dmMass_mask = np.array(rawH5[dmMass_label+\"_isvalid\"], dtype=int)\n",
    "c0_4_mask = np.array(rawH5[c0_4_label+\"_isvalid\"], dtype=int)\n",
    "v0_mask = np.array(rawH5[v0_label+\"_isvalid\"], dtype=int)\n",
    "vesc_mask = np.array(rawH5[vesc_label+\"_isvalid\"], dtype=int)\n",
    "rho0_mask = np.array(rawH5[rho0_label+\"_isvalid\"], dtype=int)\n",
    "\n",
    "print(logL_mask)\n",
    "print(dmMass_mask)\n",
    "print(c0_4_mask)\n",
    "print(v0_mask)\n",
    "print(vesc_mask)\n",
    "print(rho0_mask)\n",
    "print(np.equal(dmMass_mask, c0_4_mask))"
   ]
  },
  {
   "cell_type": "code",
   "execution_count": null,
   "metadata": {},
   "outputs": [],
   "source": [
    "print(logL[np.array(logL_mask, bool)])\n",
    "print(dmMass[np.array(dmMass_mask, bool)])\n",
    "print(c0_4[np.array(c0_4_mask, bool)])\n",
    "print(v0[np.array(v0_mask, bool)])\n",
    "print(vesc[np.array(vesc_mask, bool)])\n",
    "print(rho0[np.array(rho0_mask, bool)])"
   ]
  },
  {
   "cell_type": "code",
   "execution_count": null,
   "metadata": {},
   "outputs": [],
   "source": [
    "with open(\"extractedNREO.dat\", mode=\"w\") as file:\n",
    "    # file.write(\"logL logL_mask v0 v0_mask vesc vesc_mask rho0 rho0_mask dmMass dmMass_mask c0_4 c0_4_mask\\n\")\n",
    "    for i in range(len(logL)):\n",
    "        # file.write(np.array(logL).astype(str)[i]+\" \")\n",
    "        # file.write(np.array(logL_mask).astype(str)[i]+\" \")\n",
    "        file.write(np.array(v0).astype(str)[i]+\" \")\n",
    "        # file.write(np.array(v0_mask).astype(str)[i]+\" \")\n",
    "        file.write(np.array(vesc).astype(str)[i]+\" \")\n",
    "        # file.write(np.array(vesc_mask).astype(str)[i]+\" \")\n",
    "        file.write(np.array(rho0).astype(str)[i]+\" \")\n",
    "        # file.write(np.array(rho0_mask).astype(str)[i]+\" \")\n",
    "        file.write(np.array(dmMass).astype(str)[i]+\" \")\n",
    "        # file.write(np.array(dmMass_mask).astype(str)[i]+\" \")\n",
    "        file.write(np.array(c0_4).astype(str)[i]+\" \")\n",
    "        # file.write(np.array(c0_4_mask).astype(str)[i])\n",
    "        file.write(\"\\n\")"
   ]
  },
  {
   "cell_type": "code",
   "execution_count": null,
   "metadata": {},
   "outputs": [],
   "source": [
    "dataNREO = np.loadtxt(\"extractedNREO.dat\", skiprows=1).T"
   ]
  }
 ],
 "metadata": {
  "interpreter": {
   "hash": "70459f40ad3c5aaa14e03b0eeae0491451c1e3c1a980233880f953b14c8e104c"
  },
  "kernelspec": {
   "display_name": "Python 3.8.10 64-bit",
   "language": "python",
   "name": "python3"
  },
  "language_info": {
   "codemirror_mode": {
    "name": "ipython",
    "version": 3
   },
   "file_extension": ".py",
   "mimetype": "text/x-python",
   "name": "python",
   "nbconvert_exporter": "python",
   "pygments_lexer": "ipython3",
   "version": "3.8.10"
  },
  "orig_nbformat": 4
 },
 "nbformat": 4,
 "nbformat_minor": 2
}
