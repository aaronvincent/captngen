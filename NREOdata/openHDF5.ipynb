{
 "cells": [
  {
   "cell_type": "code",
   "execution_count": 7,
   "metadata": {},
   "outputs": [],
   "source": [
    "import os\n",
    "import numpy as np\n",
    "import h5py as h"
   ]
  },
  {
   "cell_type": "code",
   "execution_count": 8,
   "metadata": {},
   "outputs": [],
   "source": [
    "filename = \"../2022-01-01_Scan/nreo_NR_both_diver_c15_only_Halo_WW/samples/nreo.hdf5\"\n",
    "rawH5 = h.File(filename, \"r\")\n",
    "namesplit = filename.split(\"_\")\n",
    "coupling = int(namesplit[namesplit.index(\"diver\")+1].strip(\"c\"))\n",
    "# rawH5[\"nreo\"].keys()"
   ]
  },
  {
   "cell_type": "code",
   "execution_count": 9,
   "metadata": {},
   "outputs": [],
   "source": [
    "pointID_label = \"nreo/pointID\"\n",
    "logL_label = \"nreo/LogLike\"\n",
    "dmMass_label = \"nreo/#NREO_DiracDM_parameters @NREO_DiracDM::primary_parameters::m\"\n",
    "c0_label = \"nreo/#NREO_DiracDM_parameters @NREO_DiracDM::primary_parameters::c0_\"+str(coupling)\n",
    "v0_label = \"nreo/#Halo_gNFW_rho0_parameters @Halo_gNFW_rho0::primary_parameters::v0\"\n",
    "vesc_label = \"nreo/#Halo_gNFW_rho0_parameters @Halo_gNFW_rho0::primary_parameters::vesc\"\n",
    "rho0_label = \"nreo/#Halo_gNFW_rho0_parameters @Halo_gNFW_rho0::primary_parameters::rho0\"\n",
    "\n",
    "pointID = rawH5[pointID_label]\n",
    "logL = rawH5[logL_label]\n",
    "dmMass = rawH5[dmMass_label]\n",
    "c0 = rawH5[c0_label]\n",
    "v0 = rawH5[v0_label]\n",
    "vesc = rawH5[vesc_label]\n",
    "rho0 = rawH5[rho0_label]"
   ]
  },
  {
   "cell_type": "code",
   "execution_count": 10,
   "metadata": {},
   "outputs": [],
   "source": [
    "logL_mask = np.array(rawH5[logL_label+\"_isvalid\"], dtype=int)\n",
    "# dmMass_mask = np.array(rawH5[dmMass_label+\"_isvalid\"], dtype=int)\n",
    "# c0_mask = np.array(rawH5[c0_label+\"_isvalid\"], dtype=int)\n",
    "# v0_mask = np.array(rawH5[v0_label+\"_isvalid\"], dtype=int)\n",
    "# vesc_mask = np.array(rawH5[vesc_label+\"_isvalid\"], dtype=int)\n",
    "# rho0_mask = np.array(rawH5[rho0_label+\"_isvalid\"], dtype=int)\n",
    "\n",
    "# print(logL_mask)\n",
    "# print(dmMass_mask)\n",
    "# print(c0_mask)\n",
    "# print(v0_mask)\n",
    "# print(vesc_mask)\n",
    "# print(rho0_mask)\n",
    "# print(np.equal(dmMass_mask, c0_mask))"
   ]
  },
  {
   "cell_type": "code",
   "execution_count": 11,
   "metadata": {},
   "outputs": [],
   "source": [
    "pointID_valid = pointID[np.array(logL_mask, bool)]\n",
    "logL_valid = logL[np.array(logL_mask, bool)]\n",
    "dmMass_valid = dmMass[np.array(logL_mask, bool)]\n",
    "c0_valid = c0[np.array(logL_mask, bool)]\n",
    "v0_valid = v0[np.array(logL_mask, bool)]\n",
    "vesc_valid = vesc[np.array(logL_mask, bool)]\n",
    "rho0_valid = rho0[np.array(logL_mask, bool)]"
   ]
  },
  {
   "cell_type": "code",
   "execution_count": null,
   "metadata": {},
   "outputs": [],
   "source": [
    "outputFilename = os.path.splitext(filename)[0]+\"-extracted.dat\"\n",
    "with open(outputFilename, mode=\"w\") as file:\n",
    "    file.write(\"pointID logL v0 vesc rho0 dmMass c0_i\\n\")\n",
    "    for i in range(len(logL)):\n",
    "        file.write(np.array(pointID_valid).astype(str)[i]+\" \")\n",
    "        file.write(np.array(logL_valid).astype(str)[i]+\" \")\n",
    "        file.write(np.array(v0_valid).astype(str)[i]+\" \")\n",
    "        file.write(np.array(vesc_valid).astype(str)[i]+\" \")\n",
    "        file.write(np.array(rho0_valid).astype(str)[i]+\" \")\n",
    "        file.write(np.array(dmMass_valid).astype(str)[i]+\" \")\n",
    "        file.write(np.array(c0_valid).astype(str)[i]+\" \")\n",
    "        file.write(\"\\n\")"
   ]
  },
  {
   "cell_type": "code",
   "execution_count": null,
   "metadata": {},
   "outputs": [],
   "source": [
    "# dataNREO = np.loadtxt(outputFilename, skiprows=1).T"
   ]
  }
 ],
 "metadata": {
  "interpreter": {
   "hash": "916dbcbb3f70747c44a77c7bcd40155683ae19c65e1c03b4aa3499c5328201f1"
  },
  "kernelspec": {
   "display_name": "Python 3.8.10 64-bit",
   "language": "python",
   "name": "python3"
  },
  "language_info": {
   "codemirror_mode": {
    "name": "ipython",
    "version": 3
   },
   "file_extension": ".py",
   "mimetype": "text/x-python",
   "name": "python",
   "nbconvert_exporter": "python",
   "pygments_lexer": "ipython3",
   "version": "3.8.10"
  },
  "orig_nbformat": 4
 },
 "nbformat": 4,
 "nbformat_minor": 2
}
