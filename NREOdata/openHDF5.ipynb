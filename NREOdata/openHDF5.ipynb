{
 "cells": [
  {
   "cell_type": "code",
   "execution_count": null,
   "metadata": {},
   "outputs": [],
   "source": [
    "import h5py as h\n",
    "import numpy as np"
   ]
  },
  {
   "cell_type": "code",
   "execution_count": null,
   "metadata": {},
   "outputs": [],
   "source": [
    "rawH5 = h.File(\"nreo.hdf5\", \"r\")\n",
    "# rawH5[\"nreo\"].keys()"
   ]
  },
  {
   "cell_type": "code",
   "execution_count": null,
   "metadata": {},
   "outputs": [],
   "source": [
    "logL_label = \"nreo/LogLike\"\n",
    "dmMass_label = \"nreo/#NREO_DiracDM_parameters @NREO_DiracDM::primary_parameters::m\"\n",
    "c0_4_label = \"nreo/#NREO_DiracDM_parameters @NREO_DiracDM::primary_parameters::c0_4\"\n",
    "\n",
    "logL = rawH5[logL_label]\n",
    "dmMass = rawH5[dmMass_label]\n",
    "c0_4 = rawH5[c0_4_label]"
   ]
  },
  {
   "cell_type": "code",
   "execution_count": null,
   "metadata": {},
   "outputs": [],
   "source": [
    "logL_mask = np.array(rawH5[logL_label+\"_isvalid\"], dtype=int)\n",
    "dmMass_mask = np.array(rawH5[dmMass_label+\"_isvalid\"], dtype=int)\n",
    "c0_4_mask = np.array(rawH5[c0_4_label+\"_isvalid\"], dtype=int)\n",
    "\n",
    "print(logL_mask)\n",
    "print(dmMass_mask)\n",
    "print(c0_4_mask)\n",
    "print(np.equal(dmMass_mask, c0_4_mask))"
   ]
  },
  {
   "cell_type": "code",
   "execution_count": null,
   "metadata": {},
   "outputs": [],
   "source": [
    "print(logL[np.array(logL_mask, bool)])\n",
    "print(dmMass[np.array(dmMass_mask, bool)])\n",
    "print(c0_4[np.array(c0_4_mask, bool)])"
   ]
  },
  {
   "cell_type": "code",
   "execution_count": null,
   "metadata": {},
   "outputs": [],
   "source": [
    "with open(\"extractedNREO.dat\", mode=\"w\") as file:\n",
    "    file.write(\"logL logL_mask dmMass dmMass_mask c0_4 c0_4_mask\\n\")\n",
    "    for i in range(len(logL)):\n",
    "        file.write(np.array(logL, str)[i]+\" \")\n",
    "        file.write(np.array(logL_mask, str)[i]+\" \")\n",
    "        file.write(np.array(dmMass, str)[i]+\" \")\n",
    "        file.write(np.array(dmMass_mask, str)[i]+\" \")\n",
    "        file.write(np.array(c0_4, str)[i]+\" \")\n",
    "        file.write(np.array(c0_4_mask, str)[i])\n",
    "        file.write(\"\\n\")"
   ]
  },
  {
   "cell_type": "code",
   "execution_count": null,
   "metadata": {},
   "outputs": [],
   "source": [
    "dataNREO = np.loadtxt(\"extractedNREO.dat\", skiprows=1).T"
   ]
  }
 ],
 "metadata": {
  "interpreter": {
   "hash": "70459f40ad3c5aaa14e03b0eeae0491451c1e3c1a980233880f953b14c8e104c"
  },
  "kernelspec": {
   "display_name": "Python 3.8.10 64-bit",
   "language": "python",
   "name": "python3"
  },
  "language_info": {
   "codemirror_mode": {
    "name": "ipython",
    "version": 3
   },
   "file_extension": ".py",
   "mimetype": "text/x-python",
   "name": "python",
   "nbconvert_exporter": "python",
   "pygments_lexer": "ipython3",
   "version": "3.8.10"
  },
  "orig_nbformat": 4
 },
 "nbformat": 4,
 "nbformat_minor": 2
}
